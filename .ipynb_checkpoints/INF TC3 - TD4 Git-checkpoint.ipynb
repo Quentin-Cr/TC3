{
 "cells": [
  {
   "cell_type": "markdown",
   "metadata": {},
   "source": [
    "# <center>Informatique tc3 (Projet Web) - TD4</center>"
   ]
  },
  {
   "cell_type": "markdown",
   "metadata": {},
   "source": [
    "<center><i>(version spéciale S6 2020)</i></center>\n",
    "\n",
    "## <center style=\"color: #66d\">Prise en main de Git et Github</center>"
   ]
  },
  {
   "cell_type": "markdown",
   "metadata": {},
   "source": [
    "<h3 style=\"background-color:#cce; padding:0.5em\">1. Mise en place d'un répertoire versionné</h3>\n",
    "\n",
    "Au cours de ce TD on abordera les rudiments de l’utilisation de Git, et de la plateforme Github, dans le cadre du démarrage de votre projet.\n",
    "\n",
    "Git est un système de gestion de version de fichiers texte, très utilisé pour gérer les codes sources d’un\n",
    "projet, quel que soit le langage. Il permet à tout moment de revenir à une version antérieure du code,\n",
    "ou bien de tester de nouvelles fonctionnalités sans mettre en péril le code principal (notion de branche\n",
    "de développement).\n",
    "\n",
    "Github (https://github.com) est une sorte de « réseau social » pour développeur, basé sur Git, facilitant le\n",
    "partage de code entre les développeurs d’une équipe travaillant sur le même projet.\n",
    "\n",
    "Git et github sont des outils essentiels pour l’informaticien, et savoir les maîtriser est une compétence très appréciée des\n",
    "employeurs. Nous allons ici les mettre en oeuvre dans le cadre du développement du projet. L’équipe sera constituée de votre sous-groupe."
   ]
  },
  {
   "cell_type": "markdown",
   "metadata": {},
   "source": [
    "<b>1.1. Installation de git :</b>\n",
    "    \n",
    "Git a été conçu d'abord et avant tout sous la forme d'un logiciel pour linux effectuant des actions depuis la ligne de commande. Cela reste encore aujourd'hui le meilleur moyen de se servir de l'ensemble des fonctionnalités de git, qui sont nombreuses et variées. <b>C'est également sous cette forme que ces fonctionnalités sont documentées.</b>\n",
    "\n",
    "Il existe toutefois des interfaces graphiques conçues pour git sur les différents systèmes qui nous intéressent, et notamment Windows et Mac. Ces interfaces n'implémentent parfois qu'une partie restreinte de l'ensemble des commandes de git, mais qui seront très largement suffisantes pour nous dans le contexte de ce projet.\n"
   ]
  },
  {
   "cell_type": "markdown",
   "metadata": {},
   "source": [
    "<i><b>N.B.</b> La suite de ce document sera illustrée avec des représentations de l'interface par défaut de \"git Gui pour Windows\" (GUI = Graphical User Interface) et des recopies d'écran avec les commandes lancées via un terminal.\n",
    "\n",
    "Il est bien entendu que lorsque les deux méthodes sont illustrées, <span style=\"color:red\">les opérations sont à effectuer <u>uniquement</u> par l'un des deux moyens (interface graphique <b><u>OU</u></b> ligne de commande)</span>\n",
    "</i>"
   ]
  },
  {
   "cell_type": "markdown",
   "metadata": {},
   "source": [
    "Le site officiel de git est https://git-scm.com/.\n",
    "\n",
    "Depuis ce site vous pouvez installer git pour windows ou pour Mac OS X, en téléchargeant la version qui correspond à votre plateforme.\n",
    "\n",
    "Bien que la version de base suffise, vous pouvez également y trouver des interfaces graphiques variées <a href=\"https://git-scm.com/download/gui/windows\">pour windows</a> ou <a href=\"https://git-scm.com/download/gui/mac\">pour Mac OS X</a>."
   ]
  },
  {
   "cell_type": "markdown",
   "metadata": {},
   "source": [
    "<div style=\"background-color:#dde;padding:10px;border-radius:3px\">\n",
    "<b>Etape 1 - </b> Installer git sur votre système</div>"
   ]
  },
  {
   "cell_type": "markdown",
   "metadata": {},
   "source": [
    "Une fois cette étape effectuée, vous pouvez vérifier qu'elle s'est bien déroulée en lançant la commande <tt>git --version</tt> dans une fenêtre terminal :\n",
    "\n",
    "<img src=\"git_install.png\" style=\"width:600px\">"
   ]
  },
  {
   "cell_type": "markdown",
   "metadata": {},
   "source": [
    "<b>1.2 - Création d'un répertoire versionné</b>"
   ]
  },
  {
   "cell_type": "markdown",
   "metadata": {},
   "source": [
    "<div style=\"background-color:#dde;padding:10px;border-radius:3px\">\n",
    "<b>Etape 2 - </b> Créer sur votre machine un répertoire dédié à votre projet :\n",
    "</div>\n",
    "\n",
    "<img src=\"repertoire_projet.png\" style=\"width:600px\">"
   ]
  },
  {
   "cell_type": "markdown",
   "metadata": {},
   "source": [
    "Il s'agit maintenant de mettre en place les éléments nécessaires à git pour pouvoir versionner ce répertoire. Pour ceci, le plus simple est d'ouvrir une fenêtre terminal et de lancer la commande <tt>git init</tt> <b>dans le répertoire concerné</b> :\n",
    "\n",
    "<img src=\"git_init.png\" style=\"width:640px\">"
   ]
  },
  {
   "cell_type": "markdown",
   "metadata": {},
   "source": [
    "<div style=\"background-color:#dde;padding:10px;border-radius:3px\">\n",
    "<b>Etape 3 - </b> Initialiser git dans le répertoire de votre projet\n",
    "</div>"
   ]
  },
  {
   "cell_type": "markdown",
   "metadata": {},
   "source": [
    "Cette étape doit créer un sous-répertoire nommé <tt>.git</tt> :\n",
    "\n",
    "<img src=\"depot_git.png\" style=\"width:600px\">\n",
    "\n",
    "Le répertoire caché <tt>.git</tt> est nommé <b>dépôt</b> (en anglais <i>repository</i>).\n",
    "\n",
    "Il contient toutes les données dont git a besoin pour gérer l’historique. Il n'est jamais nécessaire de modifier son contenu directement. Il sera uniquement géré en passant par les commandes ou l'interface graphique de git.\n",
    "\n",
    "<i><b>N.B.</b> Si le fichier <tt>.git</tt> n’apparaît pas dans votre explorateur de fichiers, veillez à le configurer pour qu’il affiche les fichiers et dossiers cachés.</i>"
   ]
  },
  {
   "cell_type": "markdown",
   "metadata": {},
   "source": [
    "<b>1.3 - Démarrage du versioning</b>\n",
    "\n",
    "Pour démarrer le versionnement, il faut avoir au moins un fichier dont on pourra gérer les versions."
   ]
  },
  {
   "cell_type": "markdown",
   "metadata": {},
   "source": [
    "<div style=\"background-color:#dde;padding:10px;border-radius:3px\">\n",
    "<b>Etape 4 - </b> Utiliser un <u title=\"comme notepad++\">éditeur de texte</u> pour créer un fichier nommé <tt>README.md</tt> avec un texte de présentation du projet :\n",
    "</div>\n",
    "\n",
    "<img src=\"readme_src.png\" style=\"width:600px\">\n",
    "<img src=\"readme_dir.png\" style=\"width:600px\">\n"
   ]
  },
  {
   "cell_type": "markdown",
   "metadata": {},
   "source": [
    "L’historique d’un projet est une séquence de « photos », contenant l’état de tous les fichiers du projet.\n",
    "\n",
    "<div>Ces « photos » s’appellent des <b>commits</b>, et possèdent :</div><ul style=\"margin-top:0.5em\"><li>une date,</li><li>un auteur,</li><li>une description textuelle,</li><li>un lien vers le(s) commit(s) précédent(s).</li></ul>\n",
    "\n",
    "On parle également de <b>révision</b>.\n",
    "\n",
    "<i><b>N.B.</b> En pratique, git ne stocke pas la totalité des fichiers pour chaque commit, mais seulement les différences par rapport à l’état précédent. L'avantage par rapport à une gestion manuelle des copies est évidemment un gain de place.</i>\n",
    "\n",
    "<i>Bien que git (comme les autres systèmes de versioning) soit plus particulièrement conçu pour des fichiers texte (codes source python, html, css, ...) il fonctionne aussi avec des fichiers binaires (images, bureautique, etc.). Dans ce dernier cas il est obligé de stocker chaque nouvelle version du fichier en entier (et non pas uniquement les différences).</i>\n",
    "\n",
    "Si vous avez installé une interface graphique pour git (cf. étape 1) vous devez voir le fichier <tt>README.md</tt> dans la zone des fichiers non indexés <i>(Unstaged Changes)</i> :\n",
    "\n",
    "<img src=\"readme_unstaged.png\" style=\"width:500px\">"
   ]
  },
  {
   "cell_type": "markdown",
   "metadata": {},
   "source": [
    "<div>Avant de pouvoir commiter ce fichier, il faut d'abord l'indexer c'est à dire relever les différences avec la version précédente. Cette opération est appelée <b>staging</b>, et peut s'effectuer :</div><ul style=\"margin-top:0.5em\"><li>soit depuis l'interface graphique, en déplaçant le fichier dans la zone <i>Staged Changes</i>, <img src=\"readme_staged.png\" style=\"width:500px; margin-bottom:1.33em\"></li></ul></div>"
   ]
  },
  {
   "cell_type": "markdown",
   "metadata": {},
   "source": [
    "<div><ul style=\"margin-top:0.5em\"><li>soit depuis un terminal avec la commande <tt>git add README.md</tt>. <img src=\"git_add.png\" style=\"width:640px; margin-bottom:1.33em\"></li></ul>\n",
    "\n",
    "Attention toutefois de <b>ne pas utiliser simultanément une interface graphique ET des lignes de commande sur le même répertoire</b>. L'application derrière l'interface graphique mémorisant l'état du dépôt à un instant donné risque d'être désynchronisée si des commandes sont lancées en parallèle dans le même répertoire. \n",
    "\n",
    "<p style=\"background-color:#dde;padding:10px;border-radius:3px\">\n",
    "<b>Etape 5 - </b> Indexer le fichier <tt>README.md</tt>\n",
    "</p>\n",
    "\n",
    "<i><b>N.B.</b> Pour retirer un fichier de l'index, l'opération est intuitive avec l'interface graphique. En ligne de commande il suffira d'émettre <tt>git&nbsp;reset&nbsp;README.md</tt> </i>"
   ]
  },
  {
   "cell_type": "markdown",
   "metadata": {},
   "source": [
    "Une fois que l'index contient la liste des fichiers modifiés que l'on désire intégrer à la version suivante, il faut les commiter.<br>\n",
    "Rappel : un commit comporte un message permettant plus facilement de distinguer chaque version de la précédente.\n",
    "<br><br>\n",
    "<div>Comme précédemment cette opération peut s'effectuer :</div><ul style=\"margin-top:0.5em\"><li>soit depuis l'interface graphique, en entrant un message dans la zone de texte réservée à cet effet, puis en actionnant le bouton adéquat,<img src=\"readme_commit.png\" style=\"width:500px; margin:1.33em auto\"></li><li>soit depuis un terminal avec la commande <tt>git commit -m \"Initial commit\"</tt>. <img src=\"git_commit.png\" style=\"width:640px; margin-bottom:1.33em\"></li></ul>\n",
    "\n",
    "<b>Remarque :</b> lorsqu'on effectue un commit, il est essentiel de l'assortir d'un message pertinent. Ce message doit être informatif quant à la nature des modifications en train d'être commitées. \"Commit n°3\" est un mauvais message. \"Correction des typos dans la doc technique\" est un bon message.\n",
    "<br><br>\n",
    "\n",
    "<div style=\"background-color:#dde;padding:10px;border-radius:3px\">\n",
    "<b>Etape 6 - </b>Commiter le fichier <tt>README.md</tt>\n",
    "</div>\n",
    "\n",
    "<i><b>N.B.</b> Nous nous sommes ici contentés d'indexer, puis de commiter un seul fichier. En pratique, une nouvelle version d'un projet peu contenir de nombreux fichiers modifiés.</i>"
   ]
  },
  {
   "cell_type": "markdown",
   "metadata": {},
   "source": [
    "<b>1.4. Quelques explications</b>\n",
    "\n",
    "<div>Un fichier versionné par git peut être présent (ou pas) dans trois zones différentes :</div><ul style=\"margin-top:0.5em\"><li>la zone (ou copie) de travail <i>(working copy)</i>. Il s'agit des fichiers présents dans votre répertoire tel que vous les voyez. Leur état peut être différent de celui du dernier commit, et peut ne pas correspondre à celui qui a été dernièrement indexé.</li><li>l'index <i>(staging area)</i> qui contient les fichiers prêts à être commités, dans l'état qui était le leur lors de leur prise en compte dans cette zone.</li><li>l'historique du projet, ou arbre <i>(tree)</i>.</li></ul>\n",
    "\n",
    "La commande <tt>git add</tt> copie la version de travail dans la zone d'index, et la commande <tt>git commit</tt> copie la version de la zone d'index dans l'arbre de l'historique.\n",
    "\n",
    "Une fois un répertoire de projet en place et versionné, git permet de consulter l'historique des fichiers depuis l'interface utilisateur ou d'obtenir ces informations depuis la ligne de commande.\n",
    "\n",
    "<img src=\"initial_history.png\" style=\"width:600px; margin-bottom:1.33em\">\n",
    "<img src=\"initial_status.png\" style=\"width:640px; margin-bottom:1.33em\">"
   ]
  },
  {
   "cell_type": "markdown",
   "metadata": {},
   "source": [
    "<p style=\"background-color:#dde;padding:10px;border-radius:3px\">\n",
    "<b>Etape 7 - </b> Modifier, indexer et commiter à nouveau le fichier <tt>README.md</tt>, puis le modifier encore et observer les modifications dans l'historique.\n",
    "</p>\n",
    "\n",
    "<img src=\"readme_history.png\" style=\"width:600px; margin-bottom:1.33em\">\n",
    "<img src=\"git_status.png\" style=\"width:640px; margin-bottom:1.33em\">"
   ]
  },
  {
   "cell_type": "markdown",
   "metadata": {},
   "source": [
    "<i><b>N.B.</b> La vie d'un projet complexe n'est pas un long fleuve tranquille, et son historique sera loin d'être linéaire. On n'aura pas en général une série de versions consécutives qui se suivent dans le temps, mais au contraire des branches qui partent d'une version donnée puis vivent leur propre vie pendant un certain temps, avant de mourir <span style=\"font-style:normal\">(essais non concluants)</span> ou d'être réintégrés dans le tronc principal <span style=\"font-style:normal\">(correction de bug, ...)</span>.</i>\n",
    "\n",
    "<i>Dans le cadre de ce projet de première année, on se contentera de présenter et de gérer un projet avec une \"histoire\" linéaire, sans rentrer dans la complexité de la gestion des branches.</i>\n",
    "\n",
    "<i>La branche principale s'appelle \"master\". Elle est mentionnée dans les illustrations ci-dessus. Retrouvez cette mention dans l'interface graphique et dans les informations obtenues via la ligne de commande.\n",
    "</i>\n",
    "\n",
    "<i>Pour plus d'information sur les branches et leur gestion, cf. par exemple le\n",
    "<a href=\"https://perso.liris.cnrs.fr/pierre-antoine.champin/enseignement/intro-git/#branches\">cours en ligne</a> de Pierre-Antoine Champin.</i>"
   ]
  },
  {
   "cell_type": "markdown",
   "metadata": {},
   "source": [
    "<b>1.5. Exploiter l'historique</b>\n",
    "\n",
    "Il est possible de revenir en arrière dans le temps, en rendant la copie de travail conforme à une version précédente de l'historique. Cette opération s'appelle un <i>checkout</i> :\n",
    "\n",
    "<img src=\"git-states.svg\" style=\"width:400px\">\n",
    "<div style=\"text-align:center; font-style:italic;font-size:80%\">Figure dérobée à <a href=\"https://perso.liris.cnrs.fr/pierre-antoine.champin/enseignement/intro-git/\">Pierre-Antoine Champin</a></div>\n",
    "\n",
    "Cette opération n'est cependant pas possible s'il y a des modifications non commitées. Si c'est le cas, il faut au préalable soit les committer, soit les supprimer (avec un reset).\n",
    "\n",
    "Pour effectuer un <i>checkout</i> il faut indiquer le nom du commit de la version à laquelle on désire revenir. Ce nom est un hash qui apparaît dans l'historique.\n",
    "\n",
    "<img src=\"git_checkout.png\" style=\"width:350px\">\n",
    "<img src=\"git_checkout_master.png\" style=\"width:640px\">\n",
    "\n"
   ]
  },
  {
   "cell_type": "markdown",
   "metadata": {},
   "source": [
    "Après un checkout, les fichiers de la copie de travail ont été modifiés, pour correspondre à la version qui vient d'être extraite. La consultation de l'historique montre que la copie de travail (point jaune) ne se trouve plus au sommet de l'arbre  :\n",
    "\n",
    "<img src=\"git_checkout_history.png\" style=\"width:500px\">\n",
    "\n",
    "<b>N.B.</b> Attention à ne pas faire de modification sur une version ancienne (c'est le sens du warning délivré par git), à moins de prévoir la création d'une nouvelle branche, opération que nous ne détaillerons pas ici.\n"
   ]
  },
  {
   "cell_type": "markdown",
   "metadata": {},
   "source": [
    "<p style=\"background-color:#dde;padding:10px;border-radius:3px\">\n",
    "<b>Etape 8 -</b> Faire un checkout pour revenir à une version précédente dans l'historique. Vérifier que le contenu du fichier <tt>README.md</tt> sur votre disque (zone de travail) correspond bien à la version choisie.\n",
    "</p>"
   ]
  },
  {
   "cell_type": "markdown",
   "metadata": {},
   "source": [
    "Pour revenir à la version la plus récente de la branche principale (master), il faut indiquer le nom de la branche (et non pas l'identifiant du commit) : <tt>git checkout master</tt>\n",
    "\n",
    "<img src=\"cli_checkout_master.png\" style=\"width:600px\">\n",
    "<img src=\"gui_checkout_master.png\" style=\"width:400px\">\n"
   ]
  },
  {
   "cell_type": "markdown",
   "metadata": {},
   "source": [
    "<p style=\"background-color:#dde;padding:10px;border-radius:3px\">\n",
    "<b>Etape 9 -</b> Revenir au commit le plus récent de la branche master.\n",
    "</p>"
   ]
  },
  {
   "cell_type": "markdown",
   "metadata": {},
   "source": [
    "<h3 style=\"background-color:#cce; padding:0.5em\">2. Partage du code</h3>\n",
    "\n",
    "Afin de partager son travail avec la communauté, le rendre public (mise en place d'un port-folio référencé depuis son CV), ou tout simplement pour en faire une sauvegarde, il est possible de dupliquer le dépôt git sur un serveur externe.\n",
    "\n",
    "Un dépôt distant <i>(remote repository)</i> est un dépôt git, tout à fait similaire à un dépôt local, mais acessible à distance via une URL.\n",
    "\n",
    "Un dépôt local peut être lié à un dépôt distant. Git offre des fonctionnalités pour copier des commits de l’un à l’autre.\n",
    "\n",
    "<i><b>N.B.</b> Un dépôt distant n’est pas forcément « à distance », même si c’est très souvent le cas. Un dépôt distant peut également se trouver dans un répertoire partagé, ou sur un support amovible (clé USB, disque dûr externe)...</i>\n",
    "\n",
    "Github est un site qui propose d'héberger gratuitement vos dépôts distants, à condition que ceux-ci soient publiquement ouverts en lecture (code open-source)."
   ]
  },
  {
   "cell_type": "markdown",
   "metadata": {
    "collapsed": true
   },
   "source": [
    "<b>2.1 Création d'un compte github</b>\n",
    "\n",
    "Pour pouvoir héberger un projet sur github, il est nécessaire de disposer d'un identifiant (pseudo). Il faut pour cela créer un compte.\n",
    "\n",
    "<div style=\"background-color:#dde;padding:10px;border-radius:3px\">\n",
    "<b>Etape 10-</b> Si vous n'en avez pas déjà un, <a href=\"https://github.com/join\">créez un compte sur github</a>. \n",
    "<br><br>\n",
    "<div style=\"background-color: #eef; padding: 1em; border:1px solid #448; border-radius: 5px\">- A la question \"What do you want first ?\", sélectionner \"Create a repository\".\n",
    "<br>\n",
    "- Description \"Student project\" (par exemple),<br>\n",
    "- cocher \"Public\",<br>\n",
    "- ne pas cocher \"Initialize this repository with a README\".\n",
    "</div>\n",
    "<br>\n",
    "Noter votre pseudo (évidemment), le nom de votre dépôt, et l'URL fournie par git, de la forme :<br>\n",
    "<tt><span>https://</span><span>github.com</span>/pseudo/repository_name.git</tt>\n",
    "<br><br>\n",
    "<b>N.B. La liste des pseudos github de chacun des membres d'un sous-groupe fait partie des rendus demandés pour le projet INF-tc3 sur le serveur moodle, ainsi que l'adresse d'un dépôt utilisé par le groupe de projet</b>.\n",
    "</div>"
   ]
  },
  {
   "cell_type": "markdown",
   "metadata": {},
   "source": [
    "<b>2.2 Export d'un projet vers github</b>\n",
    "\n",
    "Pour exporter le dépôt créé en première partie sur notre disque local, il faut d'abord le configurer avec l'adresse du dépôt distant (remote repository) que nous venons de crééer sur github, et un nom (plus facile à mémoriser que l'adresse pour les humains que nous sommes) qui sera utilisé par la suite. Le nom utilisé dans les exemples ci-dessous est \"github\".\n",
    "\n",
    "Cette opération s'effectue avec la commande <tt>git remote add &lt;nom\\_du\\_dépôt&gt; &lt;URL\\_du\\_dépôt&gt;</tt>&nbsp;:\n",
    "\n",
    "<img src=\"cli_add_remote.png\" style=\"width:700px\">\n",
    "\n",
    "Si vous utilisez une interface graphique, attention à éviter d'effectuer toute autre opération en même temps (cf. case à cocher \"Do Nothing Else Now\" dans l'exemple ci-dessous).\n",
    "\n",
    "<img src=\"gui_add_remote.png\" style=\"width:300px\">\n",
    "\n",
    "<p style=\"background-color:#dde;padding:10px;border-radius:3px\">\n",
    "<b>Etape 11 -</b> Configurer le dépôt local avec le nom et l'adresse de votre dépôt sur github.</p>"
   ]
  },
  {
   "cell_type": "markdown",
   "metadata": {},
   "source": [
    "Une fois le dépôt local correctement configuré, on peut mettre à jour le dépôt distant avec une commande push. Cette opération copie sur le dépôt distant les commits locaux (de la branche courante) qui n’y sont pas encore présents.\n",
    "\n",
    "Pour cela il faut évidemment connaître et entrer le nom d'utilisateur et le mot de passe du propriétaire du dépôt distant.\n",
    "\n",
    "Le détail de la commande est <tt>git push -u &lt;nom\\_du\\_dépôt\\_distant&gt; master</tt> pour pousser la branche principale.\n",
    "\n",
    "<img src=\"cli_push.png\" style=\"width:640px\">\n",
    "\n",
    "ou via l'interface graphique :\n",
    "\n",
    "<img src=\"gui_push.png\" style=\"width:400px\">\n"
   ]
  },
  {
   "cell_type": "markdown",
   "metadata": {},
   "source": [
    "<div style=\"background-color:#dde;padding:10px;border-radius:3px\">\n",
    "<b>Etape 12 -</b> Exporter le projet sur github.</div>\n",
    "\n",
    "... et vérifier sur github que le projet est à jour :\n",
    "\n",
    "<img src=\"github_push.png\" style=\"width:700px; border:1px solid #00a; box-shadow:5px 5px 5px #889\">"
   ]
  },
  {
   "cell_type": "markdown",
   "metadata": {},
   "source": [
    "<b>2.3 Quand faut-il commiter, quand faut-il pousser ?</b>\n",
    "\n",
    "Il est souhaitable de commiter souvent. Dès que vous avez fait quelques modifications, supprimé les bugs dûs à des fautes de frappe, et vérifié que les modifications ne font pas \"planter\" votre application, vous pouvez commiter.\n",
    "\n",
    "Le dépôt sur github est visible publiquement. Il sert également de référence à l'équipe des développeurs qui travaillent sur le projet (ce qui sera votre cas). Il faut donc éviter de pousser des versions instables, ou non finalisées.\n",
    "\n",
    "On effectuera donc des push après plusieurs commits, lorsque la version obtenue sera suffisamment stable pour être propagée aux autres membres du groupe.\n",
    "\n"
   ]
  },
  {
   "cell_type": "markdown",
   "metadata": {},
   "source": [
    "<h3 style=\"background-color:#cce; padding:0.5em\">3. Travail collaboratif</h3>\n",
    "\n",
    "<b>3.1 Import d'un projet depuis github</b>\n",
    "\n",
    "Lors d'un travail de groupe, une seule personne crée et initialise le dépôt public. Une fois cette étape effectuée, les autres membres du projet peuvent cloner le dépôt public sur leur machine personnelle pour commencer à travailler sur leur partie.\n",
    "\n",
    "En ligne de commande il faut se placer à l'endroit où l'on veut créer le nouveau répertoire, puis faire :<br> <tt>git clone &lt;URL\\_du\\_dépôt\\_distant&gt; &lt;nom\\_du\\_répertoire\\_à\\_créer&gt;</tt>\n",
    "\n",
    "<img src=\"cli_clone.png\" style=\"width:740px\">\n",
    "\n",
    "ou via l'interface graphique :\n",
    "\n",
    "<img src=\"gui_clone.png\" style=\"width:600px\">\n",
    "\n",
    "Le clonage permet de récupérer l'ensemble du projet, aussi bien la copie de travail (c'est-à-dire les fichiers que vous voyez) que tout l'historique du projet (caché dans le répertoire .git).\n",
    "\n",
    "<b>Remarque importante :</b> le clonage configure automatiquement le dépôt local avec l'adresse du dépôt distant qui apparaît sous le nom \"origin\". "
   ]
  },
  {
   "cell_type": "markdown",
   "metadata": {},
   "source": [
    "<p style=\"background-color:#dde;padding:10px;border-radius:3px\">\n",
    "<b>Etape 13 -</b> Décider quel est le membre du sous-groupe de projet qui administrera le dépôt distant commun.</p>\n",
    "\n",
    "<p style=\"background-color:#dde;padding:10px;border-radius:3px\">\n",
    "<b>Etape 14 -</b> Cloner ce dépôt chez chacun des autres membres du sous-groupe.</p>\n"
   ]
  },
  {
   "cell_type": "markdown",
   "metadata": {},
   "source": [
    "<b>3.2 Déclarer des collaborateurs</b>\n",
    "\n",
    "Afin que les membres du groupe puissent commiter et pousser sur le dépôt distant, il est nécessaire que le propriétaire du dépôt leur accorde des droits de collaborateur.\n",
    "\n",
    "Cette opération s'effectue via l'interface en ligne de github à partir de la page propre au dépôt auquel on veut accorder des accès, il faut sélectionner :<br>\n",
    "<tt>Settings -&gt; Manage Access -&gt; Invite a collaborator -&gt; Add &lt;name&gt; to &lt;repo&gt;</tt><br>\n",
    "\n",
    "<img src=\"github_invite_collab.png\" style=\"width:600px; border:1px solid #00a; box-shadow:5px 5px 5px #889\">\n",
    "\n",
    "Une fois l'utilisateur invité, celui-ci reçoit un e-mail via lequel celui-ci doit accepter l'invitation.\n",
    "\n",
    "<img src=\"github_accept_invitation.png\" style=\"width:300Px; border:1px solid #00a; box-shadow:5px 5px 5px #889\">\n",
    "\n",
    "\n",
    "<p style=\"background-color:#dde;padding:10px;border-radius:3px\">\n",
    "<b>Etape 15 -</b> Le propriétaire du dépôt commun doit inviter les autres membres du sous-groupe comme collaborateurs.</p>\n",
    "\n",
    "<p style=\"background-color:#dde;padding:10px;border-radius:3px\">\n",
    "<b>Etape 16 -</b> Les membres du sous-groupe concernés doivent accepter l'invitation.</p>\n",
    "\n"
   ]
  },
  {
   "cell_type": "markdown",
   "metadata": {},
   "source": [
    "<b>3.3 Comment collaborer</b>\n",
    "\n",
    "Techniquement un push n’est possible que si la branche locale contient tous les commits présents dans la branche distante (plus, bien sûr, les nouveaux commits qu'on veut pousser).\n",
    "\n",
    "Si la branche distante contient des commits inconnus du dépôt local (poussés depuis une autre machine, par vous ou quelqu’un d’autre), il faudra au préalable les récupérer.\n",
    "\n",
    "La commande <tt>git pull origin master</tt> récupère les commits distants de la branche master qui n’existent pas encore dans le dépôt local (fetch). <b>Elle met également à jour la copie de travail (merge).</b>\n",
    "\n",
    "<img src=\"cli_pull.png\" style=\"width:640px\">\n",
    "\n",
    "\n",
    "Dans le cas le plus simple, le dépôt distant est « en avance » par rapport au dépôt local : il contient tous les commits du dépôt local, plus ceux que l'on cherche à récupérer. Il n'y a donc pas de problème particulier.\n",
    "\n",
    "Dans un cas plus complexe, des commits ont pû être ajoutés parallèlement dans les deux dépôts. Dans ce cas, pull effectue automatiquement une opération de fusion (appelée merge). Cela peut entraîner un conflit, qu’il faudra résoudre manuellement.\n",
    "\n",
    "Git est capable de gérer automatiquement la fusion si les modifications effectuées en parallèle portent sur \n",
    "<b>des fichiers différents</b>, ou <b>des parties distinctes des mêmes fichiers <u>texte</u></b>.\n",
    "\n",
    "On a donc un <b>conflit</b> lorsque les modifications portent sur\n",
    "<b>un même fichier binaire</b>, ou <b>la même partie d’un fichier texte</b>.\n",
    "\n",
    "Il faut dans ce cas  résoudre le conflit à la main avant de pouvoir créer le commit de fusion.\n",
    "\n",
    "Git modifie automatiquement les fichiers texte comportant un conflit <b>en incluant les modifications non conflictuelles</b>, et <b>en faisant apparaître dans le fichier les deux versions concurrentes</b> pour toutes les modifications conflictuelles. Il est à la charge de l'utilisateur de modifier ces fichiers pour en adapter le nouveau contenu.\n",
    "\n",
    "<p style=\"color:red\"><b>Conseil :</b> on sera avisé de se coordonner dans l'équipe pour éviter d'être obligé de résoudre manuellement des merge conflictuels. Il suffit pour cela de ne pas travailler en même temps sur les mêmes fichiers.</p>"
   ]
  },
  {
   "cell_type": "markdown",
   "metadata": {},
   "source": [
    "<h3 style=\"background-color:#cce; padding:0.5em\">4. Suite des opérations</h3>\n",
    "\n",
    "Vous pouvez maintenant passer au projet proprement dit.\n",
    "\n",
    "N'oubliez pas de lire (ou de relire) le document de \"Présentation générale de l'activité S6\" au format pdf ou notebook, disponible dans la zone d'accueil du cours sur le serveur moodle.\n",
    "\n",
    "Vous pouvez ensuite passer au notebook \"Projet\", également disponible sur le serveur moodle, où vous trouverez des indications pour les prochaines étapes.\n",
    "\n",
    "Concernant votre repository, l'une des premières choses à faire pourra être de mettre en place les répertoires nécessaires à votre application, comme <tt>client</tt> avec les fichiers de leaflet, peut-être <tt>client/images</tt> avec les images des POIs, et <tt>client/flags</tt> avec les images des drapeaux, comme ce qui a été fait lors du TD3.\n",
    "\n",
    "Prévoyez également un répertoire pour la documentation et les rapports (vous pourriez le nommer <tt>documentation</tt> ?)\n",
    "\n",
    "Le code de votre serveur, se trouvera lui à la racine."
   ]
  }
 ],
 "metadata": {
  "kernelspec": {
   "display_name": "Python 3",
   "language": "python",
   "name": "python3"
  },
  "language_info": {
   "codemirror_mode": {
    "name": "ipython",
    "version": 3
   },
   "file_extension": ".py",
   "mimetype": "text/x-python",
   "name": "python",
   "nbconvert_exporter": "python",
   "pygments_lexer": "ipython3",
   "version": "3.7.4"
  }
 },
 "nbformat": 4,
 "nbformat_minor": 2
}
